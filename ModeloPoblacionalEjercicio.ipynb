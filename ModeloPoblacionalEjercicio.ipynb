{
  "nbformat": 4,
  "nbformat_minor": 0,
  "metadata": {
    "colab": {
      "provenance": [],
      "collapsed_sections": [
        "u2N8NrKXdExl",
        "QJN6nTFEqGYc",
        "4c_b5QEVs_Uo"
      ],
      "include_colab_link": true
    },
    "kernelspec": {
      "name": "python3",
      "display_name": "Python 3"
    },
    "language_info": {
      "name": "python"
    }
  },
  "cells": [
    {
      "cell_type": "markdown",
      "metadata": {
        "id": "view-in-github",
        "colab_type": "text"
      },
      "source": [
        "<a href=\"https://colab.research.google.com/github/YoelRoger/UM-ModelosySimulacion/blob/main/ModeloPoblacionalEjercicio.ipynb\" target=\"_parent\"><img src=\"https://colab.research.google.com/assets/colab-badge.svg\" alt=\"Open In Colab\"/></a>"
      ]
    },
    {
      "cell_type": "markdown",
      "source": [
        "#Instalación de las librerías"
      ],
      "metadata": {
        "id": "u2N8NrKXdExl"
      }
    },
    {
      "cell_type": "code",
      "source": [
        "!pip install pint"
      ],
      "metadata": {
        "colab": {
          "base_uri": "https://localhost:8080/"
        },
        "id": "C89mSeXi2FmG",
        "outputId": "9486fcc5-5ee5-4752-d15c-7082a21e2081"
      },
      "execution_count": 2,
      "outputs": [
        {
          "output_type": "stream",
          "name": "stdout",
          "text": [
            "Looking in indexes: https://pypi.org/simple, https://us-python.pkg.dev/colab-wheels/public/simple/\n",
            "Collecting pint\n",
            "  Downloading Pint-0.21-py3-none-any.whl (286 kB)\n",
            "\u001b[2K     \u001b[90m━━━━━━━━━━━━━━━━━━━━━━━━━━━━━━━━━━━━━━━\u001b[0m \u001b[32m286.2/286.2 kB\u001b[0m \u001b[31m7.1 MB/s\u001b[0m eta \u001b[36m0:00:00\u001b[0m\n",
            "\u001b[?25hInstalling collected packages: pint\n",
            "Successfully installed pint-0.21\n"
          ]
        }
      ]
    },
    {
      "cell_type": "code",
      "source": [
        "pip install modsimpy"
      ],
      "metadata": {
        "colab": {
          "base_uri": "https://localhost:8080/"
        },
        "id": "4rWEaHxH2Rpo",
        "outputId": "c80ece71-c812-4987-de7e-8f2dd221a3e4"
      },
      "execution_count": 3,
      "outputs": [
        {
          "output_type": "stream",
          "name": "stdout",
          "text": [
            "Looking in indexes: https://pypi.org/simple, https://us-python.pkg.dev/colab-wheels/public/simple/\n",
            "Collecting modsimpy\n",
            "  Downloading modsimpy-1.1.3.tar.gz (19 kB)\n",
            "  Preparing metadata (setup.py) ... \u001b[?25l\u001b[?25hdone\n",
            "Building wheels for collected packages: modsimpy\n",
            "  Building wheel for modsimpy (setup.py) ... \u001b[?25l\u001b[?25hdone\n",
            "  Created wheel for modsimpy: filename=modsimpy-1.1.3-py3-none-any.whl size=20354 sha256=5d0fc40bc9f5632e4d256fab4111ca17021e1480a25166374b3a9b6ef002dbfc\n",
            "  Stored in directory: /root/.cache/pip/wheels/3a/21/22/b652cf3a4fc674c3377fdeb77da04bba02954a4ea5abe331be\n",
            "Successfully built modsimpy\n",
            "Installing collected packages: modsimpy\n",
            "Successfully installed modsimpy-1.1.3\n"
          ]
        }
      ]
    },
    {
      "cell_type": "markdown",
      "source": [
        "**IMPORTS**"
      ],
      "metadata": {
        "id": "XUH8dvOFXqgE"
      }
    },
    {
      "cell_type": "code",
      "source": [
        "from pandas import read_html\n",
        "import pandas as pd\n",
        "import modsim as ms\n",
        "from matplotlib import pyplot"
      ],
      "metadata": {
        "id": "iaEfDHNEXpsn"
      },
      "execution_count": 4,
      "outputs": []
    },
    {
      "cell_type": "markdown",
      "source": [
        "#Modelo poblacional\n",
        "Vamos a simular con un modelo la obtención de datos históricos de población ya conocidos. Es decir, vamos a ajustar un modelo a estos datos, para obtener las ecuaciones que modelan al sistema.\n",
        "Al obtener el modelo poblacional podemos llegar a estimar la población en los sgtes. años.\n",
        "Los datos poblacionales los obtendremos de un artículo de wikipedia acerca de la población mundial.\n"
      ],
      "metadata": {
        "id": "QJN6nTFEqGYc"
      }
    },
    {
      "cell_type": "markdown",
      "source": [
        "Importamos las liberías y obtenemos las tablas del artículo"
      ],
      "metadata": {
        "id": "RZLOJb4LrSLT"
      }
    },
    {
      "cell_type": "code",
      "source": [
        "url = \"https://en.wikipedia.org/wiki/Estimates_of_historical_world_population\"\n",
        "\n",
        "tablas = pd.read_html(url, header=0, index_col=0, decimal='M')\n",
        "\n",
        "tabla_poblacion = tablas[2] #guardamos en una variable la tercer tabla del artículo"
      ],
      "metadata": {
        "id": "Wvn2Qx_Ys0e8"
      },
      "execution_count": 27,
      "outputs": []
    },
    {
      "cell_type": "code",
      "source": [
        "tabla_poblacion.columns = [ 'census' , 'prb' , 'un' , 'maddison' ,'hyde' , 'tanton' , 'biraben' , 'mj' ,'thomlinson' , 'durand' , 'clark' ]"
      ],
      "metadata": {
        "id": "LjsBxhifuHax"
      },
      "execution_count": 28,
      "outputs": []
    },
    {
      "cell_type": "code",
      "source": [
        "censo = tabla_poblacion.census/1e9\n",
        "un = tabla_poblacion.un/1e9"
      ],
      "metadata": {
        "id": "XXGwVq8m4Pw5"
      },
      "execution_count": 29,
      "outputs": []
    },
    {
      "cell_type": "markdown",
      "source": [
        "#Proyecciones de expertos"
      ],
      "metadata": {
        "id": "4c_b5QEVs_Uo"
      }
    },
    {
      "cell_type": "markdown",
      "source": [
        "Desde el artículo de wikipedia analizamos las gráficas de estimaciones."
      ],
      "metadata": {
        "id": "HiHtFNsL2q-N"
      }
    },
    {
      "cell_type": "code",
      "source": [
        "# proyecciones de los expertos\n",
        "import pandas as pd\n",
        "def read_table3(filename = 'https://en.wikipedia.org/w/index.php?title=Estimates_of_historical_world_population&oldid=938127092'):\n",
        "    tables = pd.read_html(filename, header=0, index_col=0, decimal='M')\n",
        "    table3 = tables[3]\n",
        "    table3.columns = ['censo', 'prb', 'un']\n",
        "    return table3\n",
        "\n",
        "tabla3 = read_table3()\n",
        "\n",
        "def plot_projecciones(table):\n",
        "    censo_proj = table.censo / 1e9\n",
        "    un_proj = table.un / 1e9\n",
        "\n",
        "    ms.plot(censo_proj.dropna(), 'b:', label='Proyección US') \n",
        "    ms.plot(un_proj.dropna(), 'g--', label='Proyección UN')\n",
        "    ms.decorate(xlabel=\"Años\", ylabel=\"Población\")"
      ],
      "metadata": {
        "id": "pRhs7JYp9eUi"
      },
      "execution_count": 39,
      "outputs": []
    },
    {
      "cell_type": "markdown",
      "source": [
        "#Proyecciones US, UN, Alpha y Cuadratico"
      ],
      "metadata": {
        "id": "puuYebI3wnD8"
      }
    },
    {
      "cell_type": "code",
      "source": [
        "# Definimos la recta\n",
        "\n",
        "def recta_alpha(t):\n",
        "    b = 0.02\n",
        "    m = -0.00021\n",
        "    return b + m * (t - 1970)\n",
        "\n",
        "ts = ms.linrange(1960, 2300)\n",
        "#print(ts)\n",
        "\n",
        "alpha_model = ms.TimeSeries(recta_alpha(ts), ts) #guardamos los valores que calcula la recta año a año\n",
        "\n",
        "t_0 = 1970\n",
        "t_end = 2300\n",
        "p_0 = censo[t_0]\n",
        "\n",
        "sistema = ms.System(t_0=t_0, \n",
        "                t_end=t_end,\n",
        "                p_0=p_0,\n",
        "                alpha=0.025, beta=-0.0018,\n",
        "                funcion_alpha=recta_alpha) #en system agregamos la recta \n",
        "\n",
        "def step_alphadiff(pop, t, sistema):\n",
        "    crecimiento_neto = sistema.funcion_alpha(t) * pop[t]\n",
        "    return pop[t] + crecimiento_neto\n",
        "    \n",
        "\n",
        "def run_simulation(sistema, step_func):\n",
        "    resultado = ms.TimeSeries()\n",
        "    resultado[sistema.t_0] = sistema.p_0\n",
        "    for t in ms.linrange(sistema.t_0, sistema.t_end):\n",
        "        resultado[t+1] = step_func(resultado, t, sistema)\n",
        "    return resultado\n",
        "\n",
        "\n",
        "#CUADRATICO\n",
        "def step_cuadratico(pop, t, sistema):\n",
        "    crecimiento_neto = sistema.alpha * pop[t] + sistema.beta * pop[t]**2\n",
        "    return pop[t] + crecimiento_neto\n",
        "\n",
        "resultado_cuad = run_simulation(sistema, step_cuadratico)\n",
        "resultado_alpha = run_simulation(sistema, step_alphadiff)\n",
        "ms.plot(resultado_alpha, label=\"Alpha\")\n",
        "ms.plot(resultado_cuad, label=\"Modelo Cuadratico\")\n",
        "ms.decorate(title=\"PROYECCIONES\")\n",
        "ms.decorate(xlabel='Año')\n",
        "plot_projecciones(tabla3)"
      ],
      "metadata": {
        "colab": {
          "base_uri": "https://localhost:8080/",
          "height": 473
        },
        "id": "_f_se8Iu_JyT",
        "outputId": "49e01fb1-9e6f-4504-d884-3220f3e8d3c8"
      },
      "execution_count": 40,
      "outputs": [
        {
          "output_type": "display_data",
          "data": {
            "text/plain": [
              "<Figure size 640x480 with 1 Axes>"
            ],
            "image/png": "[encoded data removed]"
          },
          "metadata": {}
        }
      ]
    },
    {
      "cell_type": "markdown",
      "source": [
        "#Ejercicio: \n",
        "graficar en un mismo gráfico las tres curvas de proyecciones, el modelo cuadrático, el modelo alpha y los datos de los expertos. Además, deben visualizarse los datos hitóricos. Responder teniendo en cuenta las poroyecciones de los expertos: \n",
        "\n",
        "1.    ¿Cuál será el mejor modelo* para estimar poblaciones en el año 2050? \n",
        "2.    ¿Cuál será el mejor modelo* para estimar poblaciones en el año 2100?\n",
        "\n",
        "**Para las poblaciones superiores al año 2100 sera mejor usar el modelo cuadratico ya que se asemeja mas a la curva de los datos de los expertos. Caso contrario con los datos de los años anteriores al 2050, que se asemeja mejor el modelo Alpha, a mediano y corto plazo**\n",
        "\n"
      ],
      "metadata": {
        "id": "StUORRiM75vN"
      }
    }
  ]
}