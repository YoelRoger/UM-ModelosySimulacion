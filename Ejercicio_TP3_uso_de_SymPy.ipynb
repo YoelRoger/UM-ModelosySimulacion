{
  "nbformat": 4,
  "nbformat_minor": 0,
  "metadata": {
    "colab": {
      "provenance": [],
      "collapsed_sections": [
        "F7oeS5LTGVVr",
        "gcTpKVlyAlcl"
      ],
      "include_colab_link": true
    },
    "kernelspec": {
      "name": "python3",
      "display_name": "Python 3"
    },
    "language_info": {
      "name": "python"
    }
  },
  "cells": [
    {
      "cell_type": "markdown",
      "metadata": {
        "id": "view-in-github",
        "colab_type": "text"
      },
      "source": [
        "<a href=\"https://colab.research.google.com/github/YoelRoger/UM-ModelosySimulacion/blob/main/Ejercicio_TP3_uso_de_SymPy.ipynb\" target=\"_parent\"><img src=\"https://colab.research.google.com/assets/colab-badge.svg\" alt=\"Open In Colab\"/></a>"
      ]
    },
    {
      "cell_type": "markdown",
      "metadata": {
        "id": "ideal-ecology"
      },
      "source": [
        "## Ejercicio 1\n",
        "\n",
        " Use SymPy para resolver la ecuación de crecimiento cuadrático ***con otro tipo de parametrización*** (ecuación 3.8 del apunte):\n",
        "\n",
        "$$ \\frac{dx(t)}{dt} = \\alpha x(t) + \\beta x^2(t) $$\n"
      ]
    },
    {
      "cell_type": "markdown",
      "source": [
        "*Ejercicio resuleto en base a* [Colab en Clase](https://colab.research.google.com/drive/1QGgneHzgoeGD59IxiJyarDwsISd7QcDM?usp=sharing)"
      ],
      "metadata": {
        "id": "NDFQ48s22oOR"
      }
    },
    {
      "cell_type": "code",
      "source": [
        "import sympy as sp"
      ],
      "metadata": {
        "id": "rXktvznaNR7M"
      },
      "execution_count": null,
      "outputs": []
    },
    {
      "cell_type": "markdown",
      "source": [
        "*Defino las variables simbólicas*"
      ],
      "metadata": {
        "id": "BZzGh9fZ1FAI"
      }
    },
    {
      "cell_type": "code",
      "source": [
        "t = sp.symbols('t')\n",
        "x = sp.Function('x')(t)\n",
        "alpha = sp.symbols('alpha')\n",
        "beta = sp.symbols('beta')"
      ],
      "metadata": {
        "id": "DS-2JVu6NU-2"
      },
      "execution_count": null,
      "outputs": []
    },
    {
      "cell_type": "markdown",
      "source": [
        "*Definimos la ecuación diferencial*"
      ],
      "metadata": {
        "id": "TjOzJve81LWa"
      }
    },
    {
      "cell_type": "code",
      "source": [
        "diff_eq = sp.Eq(x.diff(t), alpha * x + beta * x**2)"
      ],
      "metadata": {
        "id": "ce6ghrsfNVnn"
      },
      "execution_count": null,
      "outputs": []
    },
    {
      "cell_type": "code",
      "source": [
        "diff_eq"
      ],
      "metadata": {
        "colab": {
          "base_uri": "https://localhost:8080/",
          "height": 52
        },
        "id": "p0l8W5PvPU-_",
        "outputId": "ffed067b-e155-49f3-82f8-cc5106109474"
      },
      "execution_count": null,
      "outputs": [
        {
          "output_type": "execute_result",
          "data": {
            "text/plain": [
              "Eq(Derivative(x(t), t), alpha*x(t) + beta*x(t)**2)"
            ],
            "text/latex": "$\\displaystyle \\frac{d}{d t} x{\\left(t \\right)} = \\alpha x{\\left(t \\right)} + \\beta x^{2}{\\left(t \\right)}$"
          },
          "metadata": {},
          "execution_count": 4
        }
      ]
    },
    {
      "cell_type": "markdown",
      "source": [
        "*Resolvemos la ecuación diferencial*"
      ],
      "metadata": {
        "id": "KPvcmzDQ1Rp2"
      }
    },
    {
      "cell_type": "code",
      "source": [
        "solucion = sp.dsolve(diff_eq, x)"
      ],
      "metadata": {
        "id": "SUmgsstFNdeD"
      },
      "execution_count": null,
      "outputs": []
    },
    {
      "cell_type": "code",
      "source": [
        "solucion"
      ],
      "metadata": {
        "colab": {
          "base_uri": "https://localhost:8080/",
          "height": 62
        },
        "id": "hji6Rqg8NmoB",
        "outputId": "4782ec7f-67df-4e42-8827-ff2e4327a786"
      },
      "execution_count": null,
      "outputs": [
        {
          "output_type": "execute_result",
          "data": {
            "text/plain": [
              "Eq(x(t), alpha*exp(alpha*(C1 + t))/(beta*(1 - exp(alpha*(C1 + t)))))"
            ],
            "text/latex": "$\\displaystyle x{\\left(t \\right)} = \\frac{\\alpha e^{\\alpha \\left(C_{1} + t\\right)}}{\\beta \\left(1 - e^{\\alpha \\left(C_{1} + t\\right)}\\right)}$"
          },
          "metadata": {},
          "execution_count": 6
        }
      ]
    },
    {
      "cell_type": "code",
      "source": [
        "sp.pprint(solucion)"
      ],
      "metadata": {
        "colab": {
          "base_uri": "https://localhost:8080/"
        },
        "id": "l4mbW4HlNgMo",
        "outputId": "ae868460-aa2b-4b1f-a3e9-8338f13fdec6"
      },
      "execution_count": null,
      "outputs": [
        {
          "output_type": "stream",
          "name": "stdout",
          "text": [
            "             α⋅(C₁ + t)   \n",
            "          α⋅ℯ             \n",
            "x(t) = ───────────────────\n",
            "         ⎛     α⋅(C₁ + t)⎞\n",
            "       β⋅⎝1 - ℯ          ⎠\n"
          ]
        }
      ]
    },
    {
      "cell_type": "markdown",
      "source": [
        "**Aplicamos las condiciones de contorno para encontrar la poblacion inicial x_0 -> t = 0**"
      ],
      "metadata": {
        "id": "gvXqPaG21bu2"
      }
    },
    {
      "cell_type": "code",
      "source": [
        "general_d = solucion.rhs\n",
        "solucion_t0 = general_d.subs(t, 0)\n",
        "solucion_t0"
      ],
      "metadata": {
        "id": "ihb7dZzzzsfI",
        "outputId": "9630f2b1-e874-41de-9a31-9fcc068517e0",
        "colab": {
          "base_uri": "https://localhost:8080/",
          "height": 59
        }
      },
      "execution_count": null,
      "outputs": [
        {
          "output_type": "execute_result",
          "data": {
            "text/plain": [
              "alpha*exp(C1*alpha)/(beta*(1 - exp(C1*alpha)))"
            ],
            "text/latex": "$\\displaystyle \\frac{\\alpha e^{C_{1} \\alpha}}{\\beta \\left(1 - e^{C_{1} \\alpha}\\right)}$"
          },
          "metadata": {},
          "execution_count": 8
        }
      ]
    },
    {
      "cell_type": "markdown",
      "source": [
        "*Defino las condiciones de contorno*"
      ],
      "metadata": {
        "id": "lYSjmMHh1zHb"
      }
    },
    {
      "cell_type": "code",
      "source": [
        "C1, x_0 = sp.symbols('C1 x_0')\n",
        "ec_temporal = sp.Eq(solucion_t0, x_0)\n",
        "ec_temporal"
      ],
      "metadata": {
        "id": "WExj9cY1zwT3",
        "outputId": "3478f014-05f1-4e70-d648-ca43cf2b96b1",
        "colab": {
          "base_uri": "https://localhost:8080/",
          "height": 59
        }
      },
      "execution_count": null,
      "outputs": [
        {
          "output_type": "execute_result",
          "data": {
            "text/plain": [
              "Eq(alpha*exp(C1*alpha)/(beta*(1 - exp(C1*alpha))), x_0)"
            ],
            "text/latex": "$\\displaystyle \\frac{\\alpha e^{C_{1} \\alpha}}{\\beta \\left(1 - e^{C_{1} \\alpha}\\right)} = x_{0}$"
          },
          "metadata": {},
          "execution_count": 11
        }
      ]
    },
    {
      "cell_type": "code",
      "source": [
        "solucion = sp.solve(ec_temporal, C1)\n",
        "solucion"
      ],
      "metadata": {
        "id": "MIbJDR-tz3Uw",
        "outputId": "f16a594e-06f8-4ef4-a9c9-ff4c13319117",
        "colab": {
          "base_uri": "https://localhost:8080/"
        }
      },
      "execution_count": null,
      "outputs": [
        {
          "output_type": "execute_result",
          "data": {
            "text/plain": [
              "[log(beta*x_0/(alpha + beta*x_0))/alpha]"
            ]
          },
          "metadata": {},
          "execution_count": 12
        }
      ]
    },
    {
      "cell_type": "markdown",
      "source": [
        "*Devolver la solución en forma de lista*"
      ],
      "metadata": {
        "id": "GFJrJTZe14-R"
      }
    },
    {
      "cell_type": "code",
      "source": [
        "valor_c1 = solucion[0]\n",
        "valor_c1\n"
      ],
      "metadata": {
        "id": "XZ8avsEIz6S_",
        "outputId": "b089e910-82c6-499a-ce99-563e83816f81",
        "colab": {
          "base_uri": "https://localhost:8080/",
          "height": 66
        }
      },
      "execution_count": null,
      "outputs": [
        {
          "output_type": "execute_result",
          "data": {
            "text/plain": [
              "log(beta*x_0/(alpha + beta*x_0))/alpha"
            ],
            "text/latex": "$\\displaystyle \\frac{\\log{\\left(\\frac{\\beta x_{0}}{\\alpha + \\beta x_{0}} \\right)}}{\\alpha}$"
          },
          "metadata": {},
          "execution_count": 13
        }
      ]
    },
    {
      "cell_type": "markdown",
      "source": [
        "***Reemplazar el valor de C1 en la solución general***"
      ],
      "metadata": {
        "id": "M0S7Qgsl2HK7"
      }
    },
    {
      "cell_type": "code",
      "source": [
        "particular = general_d.subs(C1, valor_c1)\n",
        "particular"
      ],
      "metadata": {
        "id": "cvM3sNXbz8SU",
        "outputId": "30989a84-9051-4ba8-e2ee-5be21bf88fd6",
        "colab": {
          "base_uri": "https://localhost:8080/",
          "height": 143
        }
      },
      "execution_count": null,
      "outputs": [
        {
          "output_type": "execute_result",
          "data": {
            "text/plain": [
              "alpha*exp(alpha*(t + log(beta*x_0/(alpha + beta*x_0))/alpha))/(beta*(1 - exp(alpha*(t + log(beta*x_0/(alpha + beta*x_0))/alpha))))"
            ],
            "text/latex": "$\\displaystyle \\frac{\\alpha e^{\\alpha \\left(t + \\frac{\\log{\\left(\\frac{\\beta x_{0}}{\\alpha + \\beta x_{0}} \\right)}}{\\alpha}\\right)}}{\\beta \\left(1 - e^{\\alpha \\left(t + \\frac{\\log{\\left(\\frac{\\beta x_{0}}{\\alpha + \\beta x_{0}} \\right)}}{\\alpha}\\right)}\\right)}$"
          },
          "metadata": {},
          "execution_count": 14
        }
      ]
    },
    {
      "cell_type": "code",
      "source": [
        "# Simplificamos la solución\n",
        "particular_simplificada = sp.simplify(particular)\n",
        "particular_simplificada"
      ],
      "metadata": {
        "id": "WMYzGTzWz-ff",
        "outputId": "a958e3e5-34b7-4ee6-d604-687186e48b91",
        "colab": {
          "base_uri": "https://localhost:8080/",
          "height": 57
        }
      },
      "execution_count": null,
      "outputs": [
        {
          "output_type": "execute_result",
          "data": {
            "text/plain": [
              "alpha*x_0*exp(alpha*t)/(alpha - beta*x_0*exp(alpha*t) + beta*x_0)"
            ],
            "text/latex": "$\\displaystyle \\frac{\\alpha x_{0} e^{\\alpha t}}{\\alpha - \\beta x_{0} e^{\\alpha t} + \\beta x_{0}}$"
          },
          "metadata": {},
          "execution_count": 16
        }
      ]
    },
    {
      "cell_type": "markdown",
      "source": [
        "# ***COMPROBAMOS SI LA ECUACION ES CORRECTA***"
      ],
      "metadata": {
        "id": "YotamBC_0EXH"
      }
    },
    {
      "cell_type": "code",
      "source": [
        "r = alpha\n",
        "K = -alpha/beta\n",
        "A = (K - x_0) / x_0"
      ],
      "metadata": {
        "id": "hwAMexpP0D1f"
      },
      "execution_count": null,
      "outputs": []
    },
    {
      "cell_type": "code",
      "source": [
        "ec_log = K / (1+ A * sp.exp(-r*t))\n",
        "ec_log"
      ],
      "metadata": {
        "id": "xiRmMPdZ0q24",
        "outputId": "8b969eb6-6920-4bc5-a8ff-9ded614c792e",
        "colab": {
          "base_uri": "https://localhost:8080/",
          "height": 75
        }
      },
      "execution_count": null,
      "outputs": [
        {
          "output_type": "execute_result",
          "data": {
            "text/plain": [
              "-alpha/(beta*(1 + (-alpha/beta - x_0)*exp(-alpha*t)/x_0))"
            ],
            "text/latex": "$\\displaystyle - \\frac{\\alpha}{\\beta \\left(1 + \\frac{\\left(- \\frac{\\alpha}{\\beta} - x_{0}\\right) e^{- \\alpha t}}{x_{0}}\\right)}$"
          },
          "metadata": {},
          "execution_count": 21
        }
      ]
    },
    {
      "cell_type": "code",
      "source": [
        "ec_log - particular_simplificada"
      ],
      "metadata": {
        "id": "E7A5XPUG0wc9",
        "outputId": "64097a9a-b96b-428b-9b4d-bb9a6f8a7dc3",
        "colab": {
          "base_uri": "https://localhost:8080/",
          "height": 81
        }
      },
      "execution_count": null,
      "outputs": [
        {
          "output_type": "execute_result",
          "data": {
            "text/plain": [
              "-alpha*x_0*exp(alpha*t)/(alpha - beta*x_0*exp(alpha*t) + beta*x_0) - alpha/(beta*(1 + (-alpha/beta - x_0)*exp(-alpha*t)/x_0))"
            ],
            "text/latex": "$\\displaystyle - \\frac{\\alpha x_{0} e^{\\alpha t}}{\\alpha - \\beta x_{0} e^{\\alpha t} + \\beta x_{0}} - \\frac{\\alpha}{\\beta \\left(1 + \\frac{\\left(- \\frac{\\alpha}{\\beta} - x_{0}\\right) e^{- \\alpha t}}{x_{0}}\\right)}$"
          },
          "metadata": {},
          "execution_count": 22
        }
      ]
    },
    {
      "cell_type": "markdown",
      "source": [
        "*Simplificamos para ver si la equivalencia es 0*"
      ],
      "metadata": {
        "id": "MjMjR7La006X"
      }
    },
    {
      "cell_type": "code",
      "source": [
        "sp.simplify(ec_log - particular_simplificada)"
      ],
      "metadata": {
        "id": "ZH5sQ6bk0ykl",
        "outputId": "d715d641-b8bc-4949-8781-b03c81d03ce1",
        "colab": {
          "base_uri": "https://localhost:8080/",
          "height": 37
        }
      },
      "execution_count": null,
      "outputs": [
        {
          "output_type": "execute_result",
          "data": {
            "text/plain": [
              "0"
            ],
            "text/latex": "$\\displaystyle 0$"
          },
          "metadata": {},
          "execution_count": 23
        }
      ]
    }
  ]
}